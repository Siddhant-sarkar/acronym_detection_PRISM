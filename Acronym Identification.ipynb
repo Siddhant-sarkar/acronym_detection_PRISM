{
 "cells": [
  {
   "cell_type": "code",
   "execution_count": 13,
   "id": "375f175e",
   "metadata": {
    "scrolled": true
   },
   "outputs": [
    {
     "name": "stdout",
     "output_type": "stream",
     "text": [
      "Abbreviation \t Definition\n",
      "NASA \t (7, 8) National Aeronautics and Space Administration\n",
      "NASA \t (14, 15) National Aeronautics and Space Administration\n",
      "NASA \t (203, 204) National Aeronautics and Space Administration\n",
      "NASA \t (111, 112) National Aeronautics and Space Administration\n",
      "NASA \t (31, 32) National Aeronautics and Space Administration\n",
      "NASA \t (337, 338) National Aeronautics and Space Administration\n",
      "NASA \t (67, 68) National Aeronautics and Space Administration\n",
      "NASA \t (263, 264) National Aeronautics and Space Administration\n",
      "ISS \t (201, 202) International Space Station\n",
      "ISS \t (84, 85) International Space Station\n",
      "ISS \t (173, 174) International Space Station\n",
      "ISS \t (80, 81) International Space Station\n",
      "ISS \t (150, 151) International Space Station\n",
      "ESA \t (127, 128) European Space Agency\n",
      "JAXA \t (136, 137) Japanese Aerospace Exploration Agency\n",
      "CSA \t (145, 146) Canadian Space Agency\n",
      "MSL \t (220, 221) Mars Science Laboratory\n",
      "MSL \t (234, 235) Mars Science Laboratory\n",
      "JWST \t (287, 288) James Webb Space Telescope\n",
      "JWST \t (274, 275) James Webb Space Telescope\n"
     ]
    }
   ],
   "source": [
    "import spacy\n",
    "\n",
    "from scispacy.abbreviation import AbbreviationDetector\n",
    "\n",
    "nlp = spacy.load(\"en_core_web_sm\")\n",
    "\n",
    "# Add the abbreviation pipe to the spacy pipeline.\n",
    "nlp.add_pipe(\"abbreviation_detector\")\n",
    "\n",
    "# doc = nlp(\"Spinal and bulbar muscular atrophy (SBMA) is an inherited motor neuron disease caused by the expansion of a polyglutamine tract within the androgen receptor (AR). SBMA can be caused by this easily.\")\n",
    "doc = nlp(\"The National Aeronautics and Space Administration (NASA) was established in 1958. NASA is responsible for the nation\\'s civilian space program and for aeronautics and space research. NASA\\'s mission is to drive advances in science, technology, aeronautics, and space exploration to enhance knowledge, education, innovation, economic vitality, and stewardship of Earth.\\r\\n\\r\\nOne of NASA\\'s most well-known programs is the International Space Station (ISS). The ISS is a space station, or a habitable laboratory, in low Earth orbit. It is a collaborative project between five participating space agencies: NASA, the Russian Federal Space Agency (Roscosmos), the European Space Agency (ESA), the Japanese Aerospace Exploration Agency (JAXA), and the Canadian Space Agency (CSA).\\r\\n\\r\\nThe ISS is used for a variety of purposes, including scientific research, technology development, and education. Experiments conducted on the ISS have contributed to our understanding of a wide range of scientific fields, including biology, Earth science, and meteorology.\\r\\n\\r\\nIn addition to the ISS, NASA is involved in a number of other space exploration programs. The Mars Science Laboratory (MSL) is a mission to Mars that was launched in 2011. The MSL is designed to study the geology and climate of Mars, as well as to search for signs of past or present life on the planet.\\r\\n\\r\\nNASA is also working on the James Webb Space Telescope (JWST), which is set to be launched in 2021. The JWST is a space telescope that will be used to study the formation and evolution of galaxies, stars, and planets. It is the successor to the Hubble Space Telescope and is expected to provide unprecedented views of the universe.\\r\\n\\r\\nOther notable programs and initiatives of NASA include the Apollo lunar landing program, the Space Shuttle program, and the Exploration Systems Development program. These programs have played a significant role in the history of space exploration and have contributed to our understanding of the universe and our place in it.\")\n",
    "print(\"Abbreviation\", \"\\t\", \"Definition\")\n",
    "for abrv in doc._.abbreviations:\n",
    "\tprint(f\"{abrv} \\t ({abrv.start}, {abrv.end}) {abrv._.long_form}\")\n",
    "\n"
   ]
  },
  {
   "cell_type": "code",
   "execution_count": 15,
   "id": "7b2d391f",
   "metadata": {},
   "outputs": [],
   "source": [
    "import pickle\n",
    "pickle.dump(nlp,open('model1.pkl','wb'))"
   ]
  },
  {
   "cell_type": "code",
   "execution_count": null,
   "id": "6bce5778",
   "metadata": {},
   "outputs": [],
   "source": []
  }
 ],
 "metadata": {
  "kernelspec": {
   "display_name": "Python 3 (ipykernel)",
   "language": "python",
   "name": "python3"
  },
  "language_info": {
   "codemirror_mode": {
    "name": "ipython",
    "version": 3
   },
   "file_extension": ".py",
   "mimetype": "text/x-python",
   "name": "python",
   "nbconvert_exporter": "python",
   "pygments_lexer": "ipython3",
   "version": "3.10.8"
  }
 },
 "nbformat": 4,
 "nbformat_minor": 5
}
